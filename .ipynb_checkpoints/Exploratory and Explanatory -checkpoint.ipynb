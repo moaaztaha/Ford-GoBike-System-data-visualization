{
 "cells": [
  {
   "cell_type": "markdown",
   "metadata": {},
   "source": [
    "# (Ford GoBike Trip Data)\n",
    "## by (Moaz Taha)\n",
    "\n",
    "## Preliminary Wrangling\n",
    "\n",
    "> The data describes the rides made by the users of Ford Gobike service in February 2019."
   ]
  },
  {
   "cell_type": "code",
   "execution_count": 1,
   "metadata": {},
   "outputs": [],
   "source": [
    "# import all packages and set plots to be embedded inline\n",
    "import numpy as np\n",
    "import pandas as pd\n",
    "import matplotlib.pyplot as plt\n",
    "import seaborn as sb\n",
    "\n",
    "%matplotlib inline"
   ]
  },
  {
   "cell_type": "markdown",
   "metadata": {},
   "source": [
    "> Load in your dataset and describe its properties through the questions below.\n",
    "Try and motivate your exploration goals through this section."
   ]
  },
  {
   "cell_type": "code",
   "execution_count": 2,
   "metadata": {},
   "outputs": [
    {
     "data": {
      "text/html": [
       "<div>\n",
       "<style scoped>\n",
       "    .dataframe tbody tr th:only-of-type {\n",
       "        vertical-align: middle;\n",
       "    }\n",
       "\n",
       "    .dataframe tbody tr th {\n",
       "        vertical-align: top;\n",
       "    }\n",
       "\n",
       "    .dataframe thead th {\n",
       "        text-align: right;\n",
       "    }\n",
       "</style>\n",
       "<table border=\"1\" class=\"dataframe\">\n",
       "  <thead>\n",
       "    <tr style=\"text-align: right;\">\n",
       "      <th></th>\n",
       "      <th>duration_sec</th>\n",
       "      <th>start_time</th>\n",
       "      <th>end_time</th>\n",
       "      <th>start_station_id</th>\n",
       "      <th>start_station_name</th>\n",
       "      <th>start_station_latitude</th>\n",
       "      <th>start_station_longitude</th>\n",
       "      <th>end_station_id</th>\n",
       "      <th>end_station_name</th>\n",
       "      <th>end_station_latitude</th>\n",
       "      <th>end_station_longitude</th>\n",
       "      <th>bike_id</th>\n",
       "      <th>user_type</th>\n",
       "      <th>member_birth_year</th>\n",
       "      <th>member_gender</th>\n",
       "      <th>bike_share_for_all_trip</th>\n",
       "    </tr>\n",
       "  </thead>\n",
       "  <tbody>\n",
       "    <tr>\n",
       "      <th>0</th>\n",
       "      <td>52185</td>\n",
       "      <td>2019-02-28 17:32:10.1450</td>\n",
       "      <td>2019-03-01 08:01:55.9750</td>\n",
       "      <td>21.0</td>\n",
       "      <td>Montgomery St BART Station (Market St at 2nd St)</td>\n",
       "      <td>37.789625</td>\n",
       "      <td>-122.400811</td>\n",
       "      <td>13.0</td>\n",
       "      <td>Commercial St at Montgomery St</td>\n",
       "      <td>37.794231</td>\n",
       "      <td>-122.402923</td>\n",
       "      <td>4902</td>\n",
       "      <td>Customer</td>\n",
       "      <td>1984.0</td>\n",
       "      <td>Male</td>\n",
       "      <td>No</td>\n",
       "    </tr>\n",
       "    <tr>\n",
       "      <th>1</th>\n",
       "      <td>42521</td>\n",
       "      <td>2019-02-28 18:53:21.7890</td>\n",
       "      <td>2019-03-01 06:42:03.0560</td>\n",
       "      <td>23.0</td>\n",
       "      <td>The Embarcadero at Steuart St</td>\n",
       "      <td>37.791464</td>\n",
       "      <td>-122.391034</td>\n",
       "      <td>81.0</td>\n",
       "      <td>Berry St at 4th St</td>\n",
       "      <td>37.775880</td>\n",
       "      <td>-122.393170</td>\n",
       "      <td>2535</td>\n",
       "      <td>Customer</td>\n",
       "      <td>NaN</td>\n",
       "      <td>NaN</td>\n",
       "      <td>No</td>\n",
       "    </tr>\n",
       "    <tr>\n",
       "      <th>2</th>\n",
       "      <td>61854</td>\n",
       "      <td>2019-02-28 12:13:13.2180</td>\n",
       "      <td>2019-03-01 05:24:08.1460</td>\n",
       "      <td>86.0</td>\n",
       "      <td>Market St at Dolores St</td>\n",
       "      <td>37.769305</td>\n",
       "      <td>-122.426826</td>\n",
       "      <td>3.0</td>\n",
       "      <td>Powell St BART Station (Market St at 4th St)</td>\n",
       "      <td>37.786375</td>\n",
       "      <td>-122.404904</td>\n",
       "      <td>5905</td>\n",
       "      <td>Customer</td>\n",
       "      <td>1972.0</td>\n",
       "      <td>Male</td>\n",
       "      <td>No</td>\n",
       "    </tr>\n",
       "    <tr>\n",
       "      <th>3</th>\n",
       "      <td>36490</td>\n",
       "      <td>2019-02-28 17:54:26.0100</td>\n",
       "      <td>2019-03-01 04:02:36.8420</td>\n",
       "      <td>375.0</td>\n",
       "      <td>Grove St at Masonic Ave</td>\n",
       "      <td>37.774836</td>\n",
       "      <td>-122.446546</td>\n",
       "      <td>70.0</td>\n",
       "      <td>Central Ave at Fell St</td>\n",
       "      <td>37.773311</td>\n",
       "      <td>-122.444293</td>\n",
       "      <td>6638</td>\n",
       "      <td>Subscriber</td>\n",
       "      <td>1989.0</td>\n",
       "      <td>Other</td>\n",
       "      <td>No</td>\n",
       "    </tr>\n",
       "    <tr>\n",
       "      <th>4</th>\n",
       "      <td>1585</td>\n",
       "      <td>2019-02-28 23:54:18.5490</td>\n",
       "      <td>2019-03-01 00:20:44.0740</td>\n",
       "      <td>7.0</td>\n",
       "      <td>Frank H Ogawa Plaza</td>\n",
       "      <td>37.804562</td>\n",
       "      <td>-122.271738</td>\n",
       "      <td>222.0</td>\n",
       "      <td>10th Ave at E 15th St</td>\n",
       "      <td>37.792714</td>\n",
       "      <td>-122.248780</td>\n",
       "      <td>4898</td>\n",
       "      <td>Subscriber</td>\n",
       "      <td>1974.0</td>\n",
       "      <td>Male</td>\n",
       "      <td>Yes</td>\n",
       "    </tr>\n",
       "  </tbody>\n",
       "</table>\n",
       "</div>"
      ],
      "text/plain": [
       "   duration_sec                start_time                  end_time  \\\n",
       "0         52185  2019-02-28 17:32:10.1450  2019-03-01 08:01:55.9750   \n",
       "1         42521  2019-02-28 18:53:21.7890  2019-03-01 06:42:03.0560   \n",
       "2         61854  2019-02-28 12:13:13.2180  2019-03-01 05:24:08.1460   \n",
       "3         36490  2019-02-28 17:54:26.0100  2019-03-01 04:02:36.8420   \n",
       "4          1585  2019-02-28 23:54:18.5490  2019-03-01 00:20:44.0740   \n",
       "\n",
       "   start_station_id                                start_station_name  \\\n",
       "0              21.0  Montgomery St BART Station (Market St at 2nd St)   \n",
       "1              23.0                     The Embarcadero at Steuart St   \n",
       "2              86.0                           Market St at Dolores St   \n",
       "3             375.0                           Grove St at Masonic Ave   \n",
       "4               7.0                               Frank H Ogawa Plaza   \n",
       "\n",
       "   start_station_latitude  start_station_longitude  end_station_id  \\\n",
       "0               37.789625              -122.400811            13.0   \n",
       "1               37.791464              -122.391034            81.0   \n",
       "2               37.769305              -122.426826             3.0   \n",
       "3               37.774836              -122.446546            70.0   \n",
       "4               37.804562              -122.271738           222.0   \n",
       "\n",
       "                               end_station_name  end_station_latitude  \\\n",
       "0                Commercial St at Montgomery St             37.794231   \n",
       "1                            Berry St at 4th St             37.775880   \n",
       "2  Powell St BART Station (Market St at 4th St)             37.786375   \n",
       "3                        Central Ave at Fell St             37.773311   \n",
       "4                         10th Ave at E 15th St             37.792714   \n",
       "\n",
       "   end_station_longitude  bike_id   user_type  member_birth_year  \\\n",
       "0            -122.402923     4902    Customer             1984.0   \n",
       "1            -122.393170     2535    Customer                NaN   \n",
       "2            -122.404904     5905    Customer             1972.0   \n",
       "3            -122.444293     6638  Subscriber             1989.0   \n",
       "4            -122.248780     4898  Subscriber             1974.0   \n",
       "\n",
       "  member_gender bike_share_for_all_trip  \n",
       "0          Male                      No  \n",
       "1           NaN                      No  \n",
       "2          Male                      No  \n",
       "3         Other                      No  \n",
       "4          Male                     Yes  "
      ]
     },
     "execution_count": 2,
     "metadata": {},
     "output_type": "execute_result"
    }
   ],
   "source": [
    "df = pd.read_csv(\"fordgobike-tripdata.csv\")\n",
    "df.head()"
   ]
  },
  {
   "cell_type": "code",
   "execution_count": 3,
   "metadata": {},
   "outputs": [
    {
     "data": {
      "text/plain": [
       "(183412, 16)"
      ]
     },
     "execution_count": 3,
     "metadata": {},
     "output_type": "execute_result"
    }
   ],
   "source": [
    "df.shape"
   ]
  },
  {
   "cell_type": "code",
   "execution_count": 4,
   "metadata": {},
   "outputs": [
    {
     "name": "stdout",
     "output_type": "stream",
     "text": [
      "<class 'pandas.core.frame.DataFrame'>\n",
      "RangeIndex: 183412 entries, 0 to 183411\n",
      "Data columns (total 16 columns):\n",
      " #   Column                   Non-Null Count   Dtype  \n",
      "---  ------                   --------------   -----  \n",
      " 0   duration_sec             183412 non-null  int64  \n",
      " 1   start_time               183412 non-null  object \n",
      " 2   end_time                 183412 non-null  object \n",
      " 3   start_station_id         183215 non-null  float64\n",
      " 4   start_station_name       183215 non-null  object \n",
      " 5   start_station_latitude   183412 non-null  float64\n",
      " 6   start_station_longitude  183412 non-null  float64\n",
      " 7   end_station_id           183215 non-null  float64\n",
      " 8   end_station_name         183215 non-null  object \n",
      " 9   end_station_latitude     183412 non-null  float64\n",
      " 10  end_station_longitude    183412 non-null  float64\n",
      " 11  bike_id                  183412 non-null  int64  \n",
      " 12  user_type                183412 non-null  object \n",
      " 13  member_birth_year        175147 non-null  float64\n",
      " 14  member_gender            175147 non-null  object \n",
      " 15  bike_share_for_all_trip  183412 non-null  object \n",
      "dtypes: float64(7), int64(2), object(7)\n",
      "memory usage: 22.4+ MB\n"
     ]
    }
   ],
   "source": [
    "df.info()"
   ]
  },
  {
   "cell_type": "code",
   "execution_count": 5,
   "metadata": {},
   "outputs": [
    {
     "name": "stdout",
     "output_type": "stream",
     "text": [
      "<class 'pandas.core.frame.DataFrame'>\n",
      "RangeIndex: 183412 entries, 0 to 183411\n",
      "Data columns (total 16 columns):\n",
      " #   Column                   Non-Null Count   Dtype         \n",
      "---  ------                   --------------   -----         \n",
      " 0   duration_sec             183412 non-null  int64         \n",
      " 1   start_time               183412 non-null  datetime64[ns]\n",
      " 2   end_time                 183412 non-null  datetime64[ns]\n",
      " 3   start_station_id         183215 non-null  float64       \n",
      " 4   start_station_name       183215 non-null  object        \n",
      " 5   start_station_latitude   183412 non-null  float64       \n",
      " 6   start_station_longitude  183412 non-null  float64       \n",
      " 7   end_station_id           183215 non-null  float64       \n",
      " 8   end_station_name         183215 non-null  object        \n",
      " 9   end_station_latitude     183412 non-null  float64       \n",
      " 10  end_station_longitude    183412 non-null  float64       \n",
      " 11  bike_id                  183412 non-null  int64         \n",
      " 12  user_type                183412 non-null  object        \n",
      " 13  member_birth_year        175147 non-null  float64       \n",
      " 14  member_gender            175147 non-null  object        \n",
      " 15  bike_share_for_all_trip  183412 non-null  object        \n",
      "dtypes: datetime64[ns](2), float64(7), int64(2), object(5)\n",
      "memory usage: 22.4+ MB\n"
     ]
    }
   ],
   "source": [
    "# correct Dtype for start_time and end_time\n",
    "df['start_time'] = pd.to_datetime(df['start_time'])\n",
    "df['end_time'] = pd.to_datetime(df['end_time'])\n",
    "\n",
    "df.info()"
   ]
  },
  {
   "cell_type": "code",
   "execution_count": 6,
   "metadata": {},
   "outputs": [
    {
     "data": {
      "text/plain": [
       "(Timestamp('2019-02-01 00:00:20.636000'),\n",
       " Timestamp('2019-02-28 23:59:18.548000'))"
      ]
     },
     "execution_count": 6,
     "metadata": {},
     "output_type": "execute_result"
    }
   ],
   "source": [
    "df['start_time'].min(), df['start_time'].max()"
   ]
  },
  {
   "cell_type": "code",
   "execution_count": 7,
   "metadata": {},
   "outputs": [
    {
     "data": {
      "text/plain": [
       "duration_sec                  0\n",
       "start_time                    0\n",
       "end_time                      0\n",
       "start_station_id            197\n",
       "start_station_name          197\n",
       "start_station_latitude        0\n",
       "start_station_longitude       0\n",
       "end_station_id              197\n",
       "end_station_name            197\n",
       "end_station_latitude          0\n",
       "end_station_longitude         0\n",
       "bike_id                       0\n",
       "user_type                     0\n",
       "member_birth_year          8265\n",
       "member_gender              8265\n",
       "bike_share_for_all_trip       0\n",
       "dtype: int64"
      ]
     },
     "execution_count": 7,
     "metadata": {},
     "output_type": "execute_result"
    }
   ],
   "source": [
    "df.isna().sum()"
   ]
  },
  {
   "cell_type": "code",
   "execution_count": 8,
   "metadata": {},
   "outputs": [
    {
     "data": {
      "text/html": [
       "<div>\n",
       "<style scoped>\n",
       "    .dataframe tbody tr th:only-of-type {\n",
       "        vertical-align: middle;\n",
       "    }\n",
       "\n",
       "    .dataframe tbody tr th {\n",
       "        vertical-align: top;\n",
       "    }\n",
       "\n",
       "    .dataframe thead th {\n",
       "        text-align: right;\n",
       "    }\n",
       "</style>\n",
       "<table border=\"1\" class=\"dataframe\">\n",
       "  <thead>\n",
       "    <tr style=\"text-align: right;\">\n",
       "      <th></th>\n",
       "      <th>duration_sec</th>\n",
       "      <th>start_time</th>\n",
       "      <th>end_time</th>\n",
       "      <th>start_station_id</th>\n",
       "      <th>start_station_name</th>\n",
       "      <th>start_station_latitude</th>\n",
       "      <th>start_station_longitude</th>\n",
       "      <th>end_station_id</th>\n",
       "      <th>end_station_name</th>\n",
       "      <th>end_station_latitude</th>\n",
       "      <th>end_station_longitude</th>\n",
       "      <th>bike_id</th>\n",
       "      <th>user_type</th>\n",
       "      <th>member_birth_year</th>\n",
       "      <th>member_gender</th>\n",
       "      <th>bike_share_for_all_trip</th>\n",
       "    </tr>\n",
       "  </thead>\n",
       "  <tbody>\n",
       "    <tr>\n",
       "      <th>1</th>\n",
       "      <td>42521</td>\n",
       "      <td>2019-02-28 18:53:21.789</td>\n",
       "      <td>2019-03-01 06:42:03.056</td>\n",
       "      <td>23.0</td>\n",
       "      <td>The Embarcadero at Steuart St</td>\n",
       "      <td>37.791464</td>\n",
       "      <td>-122.391034</td>\n",
       "      <td>81.0</td>\n",
       "      <td>Berry St at 4th St</td>\n",
       "      <td>37.775880</td>\n",
       "      <td>-122.393170</td>\n",
       "      <td>2535</td>\n",
       "      <td>Customer</td>\n",
       "      <td>NaN</td>\n",
       "      <td>NaN</td>\n",
       "      <td>No</td>\n",
       "    </tr>\n",
       "    <tr>\n",
       "      <th>13</th>\n",
       "      <td>915</td>\n",
       "      <td>2019-02-28 23:49:06.062</td>\n",
       "      <td>2019-03-01 00:04:21.867</td>\n",
       "      <td>252.0</td>\n",
       "      <td>Channing Way at Shattuck Ave</td>\n",
       "      <td>37.865847</td>\n",
       "      <td>-122.267443</td>\n",
       "      <td>244.0</td>\n",
       "      <td>Shattuck Ave at Hearst Ave</td>\n",
       "      <td>37.873676</td>\n",
       "      <td>-122.268487</td>\n",
       "      <td>5101</td>\n",
       "      <td>Subscriber</td>\n",
       "      <td>NaN</td>\n",
       "      <td>NaN</td>\n",
       "      <td>No</td>\n",
       "    </tr>\n",
       "    <tr>\n",
       "      <th>28</th>\n",
       "      <td>650</td>\n",
       "      <td>2019-02-28 23:43:27.503</td>\n",
       "      <td>2019-02-28 23:54:18.451</td>\n",
       "      <td>258.0</td>\n",
       "      <td>University Ave at Oxford St</td>\n",
       "      <td>37.872355</td>\n",
       "      <td>-122.266447</td>\n",
       "      <td>263.0</td>\n",
       "      <td>Channing Way at San Pablo Ave</td>\n",
       "      <td>37.862827</td>\n",
       "      <td>-122.290230</td>\n",
       "      <td>4784</td>\n",
       "      <td>Customer</td>\n",
       "      <td>NaN</td>\n",
       "      <td>NaN</td>\n",
       "      <td>No</td>\n",
       "    </tr>\n",
       "    <tr>\n",
       "      <th>53</th>\n",
       "      <td>3418</td>\n",
       "      <td>2019-02-28 22:41:16.362</td>\n",
       "      <td>2019-02-28 23:38:14.363</td>\n",
       "      <td>11.0</td>\n",
       "      <td>Davis St at Jackson St</td>\n",
       "      <td>37.797280</td>\n",
       "      <td>-122.398436</td>\n",
       "      <td>11.0</td>\n",
       "      <td>Davis St at Jackson St</td>\n",
       "      <td>37.797280</td>\n",
       "      <td>-122.398436</td>\n",
       "      <td>319</td>\n",
       "      <td>Customer</td>\n",
       "      <td>NaN</td>\n",
       "      <td>NaN</td>\n",
       "      <td>No</td>\n",
       "    </tr>\n",
       "    <tr>\n",
       "      <th>65</th>\n",
       "      <td>926</td>\n",
       "      <td>2019-02-28 23:17:05.853</td>\n",
       "      <td>2019-02-28 23:32:32.682</td>\n",
       "      <td>13.0</td>\n",
       "      <td>Commercial St at Montgomery St</td>\n",
       "      <td>37.794231</td>\n",
       "      <td>-122.402923</td>\n",
       "      <td>81.0</td>\n",
       "      <td>Berry St at 4th St</td>\n",
       "      <td>37.775880</td>\n",
       "      <td>-122.393170</td>\n",
       "      <td>2951</td>\n",
       "      <td>Subscriber</td>\n",
       "      <td>NaN</td>\n",
       "      <td>NaN</td>\n",
       "      <td>No</td>\n",
       "    </tr>\n",
       "    <tr>\n",
       "      <th>...</th>\n",
       "      <td>...</td>\n",
       "      <td>...</td>\n",
       "      <td>...</td>\n",
       "      <td>...</td>\n",
       "      <td>...</td>\n",
       "      <td>...</td>\n",
       "      <td>...</td>\n",
       "      <td>...</td>\n",
       "      <td>...</td>\n",
       "      <td>...</td>\n",
       "      <td>...</td>\n",
       "      <td>...</td>\n",
       "      <td>...</td>\n",
       "      <td>...</td>\n",
       "      <td>...</td>\n",
       "      <td>...</td>\n",
       "    </tr>\n",
       "    <tr>\n",
       "      <th>183354</th>\n",
       "      <td>449</td>\n",
       "      <td>2019-02-01 01:35:07.663</td>\n",
       "      <td>2019-02-01 01:42:36.878</td>\n",
       "      <td>244.0</td>\n",
       "      <td>Shattuck Ave at Hearst Ave</td>\n",
       "      <td>37.873676</td>\n",
       "      <td>-122.268487</td>\n",
       "      <td>253.0</td>\n",
       "      <td>Haste St at College Ave</td>\n",
       "      <td>37.866418</td>\n",
       "      <td>-122.253799</td>\n",
       "      <td>5430</td>\n",
       "      <td>Customer</td>\n",
       "      <td>NaN</td>\n",
       "      <td>NaN</td>\n",
       "      <td>No</td>\n",
       "    </tr>\n",
       "    <tr>\n",
       "      <th>183356</th>\n",
       "      <td>795</td>\n",
       "      <td>2019-02-01 01:25:50.366</td>\n",
       "      <td>2019-02-01 01:39:05.950</td>\n",
       "      <td>368.0</td>\n",
       "      <td>Myrtle St at Polk St</td>\n",
       "      <td>37.785434</td>\n",
       "      <td>-122.419622</td>\n",
       "      <td>125.0</td>\n",
       "      <td>20th St at Bryant St</td>\n",
       "      <td>37.759200</td>\n",
       "      <td>-122.409851</td>\n",
       "      <td>5400</td>\n",
       "      <td>Subscriber</td>\n",
       "      <td>NaN</td>\n",
       "      <td>NaN</td>\n",
       "      <td>No</td>\n",
       "    </tr>\n",
       "    <tr>\n",
       "      <th>183363</th>\n",
       "      <td>673</td>\n",
       "      <td>2019-02-01 01:12:24.420</td>\n",
       "      <td>2019-02-01 01:23:37.645</td>\n",
       "      <td>75.0</td>\n",
       "      <td>Market St at Franklin St</td>\n",
       "      <td>37.773793</td>\n",
       "      <td>-122.421239</td>\n",
       "      <td>133.0</td>\n",
       "      <td>Valencia St at 22nd St</td>\n",
       "      <td>37.755213</td>\n",
       "      <td>-122.420975</td>\n",
       "      <td>5166</td>\n",
       "      <td>Customer</td>\n",
       "      <td>NaN</td>\n",
       "      <td>NaN</td>\n",
       "      <td>No</td>\n",
       "    </tr>\n",
       "    <tr>\n",
       "      <th>183371</th>\n",
       "      <td>196</td>\n",
       "      <td>2019-02-01 01:08:38.641</td>\n",
       "      <td>2019-02-01 01:11:54.949</td>\n",
       "      <td>58.0</td>\n",
       "      <td>Market St at 10th St</td>\n",
       "      <td>37.776619</td>\n",
       "      <td>-122.417385</td>\n",
       "      <td>75.0</td>\n",
       "      <td>Market St at Franklin St</td>\n",
       "      <td>37.773793</td>\n",
       "      <td>-122.421239</td>\n",
       "      <td>2395</td>\n",
       "      <td>Customer</td>\n",
       "      <td>NaN</td>\n",
       "      <td>NaN</td>\n",
       "      <td>No</td>\n",
       "    </tr>\n",
       "    <tr>\n",
       "      <th>183402</th>\n",
       "      <td>122</td>\n",
       "      <td>2019-02-01 00:17:32.258</td>\n",
       "      <td>2019-02-01 00:19:34.938</td>\n",
       "      <td>119.0</td>\n",
       "      <td>18th St at Noe St</td>\n",
       "      <td>37.761047</td>\n",
       "      <td>-122.432642</td>\n",
       "      <td>120.0</td>\n",
       "      <td>Mission Dolores Park</td>\n",
       "      <td>37.761420</td>\n",
       "      <td>-122.426435</td>\n",
       "      <td>4326</td>\n",
       "      <td>Subscriber</td>\n",
       "      <td>NaN</td>\n",
       "      <td>NaN</td>\n",
       "      <td>No</td>\n",
       "    </tr>\n",
       "  </tbody>\n",
       "</table>\n",
       "<p>8265 rows × 16 columns</p>\n",
       "</div>"
      ],
      "text/plain": [
       "        duration_sec              start_time                end_time  \\\n",
       "1              42521 2019-02-28 18:53:21.789 2019-03-01 06:42:03.056   \n",
       "13               915 2019-02-28 23:49:06.062 2019-03-01 00:04:21.867   \n",
       "28               650 2019-02-28 23:43:27.503 2019-02-28 23:54:18.451   \n",
       "53              3418 2019-02-28 22:41:16.362 2019-02-28 23:38:14.363   \n",
       "65               926 2019-02-28 23:17:05.853 2019-02-28 23:32:32.682   \n",
       "...              ...                     ...                     ...   \n",
       "183354           449 2019-02-01 01:35:07.663 2019-02-01 01:42:36.878   \n",
       "183356           795 2019-02-01 01:25:50.366 2019-02-01 01:39:05.950   \n",
       "183363           673 2019-02-01 01:12:24.420 2019-02-01 01:23:37.645   \n",
       "183371           196 2019-02-01 01:08:38.641 2019-02-01 01:11:54.949   \n",
       "183402           122 2019-02-01 00:17:32.258 2019-02-01 00:19:34.938   \n",
       "\n",
       "        start_station_id              start_station_name  \\\n",
       "1                   23.0   The Embarcadero at Steuart St   \n",
       "13                 252.0    Channing Way at Shattuck Ave   \n",
       "28                 258.0     University Ave at Oxford St   \n",
       "53                  11.0          Davis St at Jackson St   \n",
       "65                  13.0  Commercial St at Montgomery St   \n",
       "...                  ...                             ...   \n",
       "183354             244.0      Shattuck Ave at Hearst Ave   \n",
       "183356             368.0            Myrtle St at Polk St   \n",
       "183363              75.0        Market St at Franklin St   \n",
       "183371              58.0            Market St at 10th St   \n",
       "183402             119.0               18th St at Noe St   \n",
       "\n",
       "        start_station_latitude  start_station_longitude  end_station_id  \\\n",
       "1                    37.791464              -122.391034            81.0   \n",
       "13                   37.865847              -122.267443           244.0   \n",
       "28                   37.872355              -122.266447           263.0   \n",
       "53                   37.797280              -122.398436            11.0   \n",
       "65                   37.794231              -122.402923            81.0   \n",
       "...                        ...                      ...             ...   \n",
       "183354               37.873676              -122.268487           253.0   \n",
       "183356               37.785434              -122.419622           125.0   \n",
       "183363               37.773793              -122.421239           133.0   \n",
       "183371               37.776619              -122.417385            75.0   \n",
       "183402               37.761047              -122.432642           120.0   \n",
       "\n",
       "                     end_station_name  end_station_latitude  \\\n",
       "1                  Berry St at 4th St             37.775880   \n",
       "13         Shattuck Ave at Hearst Ave             37.873676   \n",
       "28      Channing Way at San Pablo Ave             37.862827   \n",
       "53             Davis St at Jackson St             37.797280   \n",
       "65                 Berry St at 4th St             37.775880   \n",
       "...                               ...                   ...   \n",
       "183354        Haste St at College Ave             37.866418   \n",
       "183356           20th St at Bryant St             37.759200   \n",
       "183363         Valencia St at 22nd St             37.755213   \n",
       "183371       Market St at Franklin St             37.773793   \n",
       "183402           Mission Dolores Park             37.761420   \n",
       "\n",
       "        end_station_longitude  bike_id   user_type  member_birth_year  \\\n",
       "1                 -122.393170     2535    Customer                NaN   \n",
       "13                -122.268487     5101  Subscriber                NaN   \n",
       "28                -122.290230     4784    Customer                NaN   \n",
       "53                -122.398436      319    Customer                NaN   \n",
       "65                -122.393170     2951  Subscriber                NaN   \n",
       "...                       ...      ...         ...                ...   \n",
       "183354            -122.253799     5430    Customer                NaN   \n",
       "183356            -122.409851     5400  Subscriber                NaN   \n",
       "183363            -122.420975     5166    Customer                NaN   \n",
       "183371            -122.421239     2395    Customer                NaN   \n",
       "183402            -122.426435     4326  Subscriber                NaN   \n",
       "\n",
       "       member_gender bike_share_for_all_trip  \n",
       "1                NaN                      No  \n",
       "13               NaN                      No  \n",
       "28               NaN                      No  \n",
       "53               NaN                      No  \n",
       "65               NaN                      No  \n",
       "...              ...                     ...  \n",
       "183354           NaN                      No  \n",
       "183356           NaN                      No  \n",
       "183363           NaN                      No  \n",
       "183371           NaN                      No  \n",
       "183402           NaN                      No  \n",
       "\n",
       "[8265 rows x 16 columns]"
      ]
     },
     "execution_count": 8,
     "metadata": {},
     "output_type": "execute_result"
    }
   ],
   "source": [
    "# checking the missing values in members' gender and birth year\n",
    "df[df['member_gender'].isna()]"
   ]
  },
  {
   "cell_type": "code",
   "execution_count": 9,
   "metadata": {},
   "outputs": [
    {
     "data": {
      "text/plain": [
       "Subscriber    5028\n",
       "Customer      3237\n",
       "Name: user_type, dtype: int64"
      ]
     },
     "execution_count": 9,
     "metadata": {},
     "output_type": "execute_result"
    }
   ],
   "source": [
    "df[df['member_gender'].isna()].user_type.value_counts()"
   ]
  },
  {
   "cell_type": "markdown",
   "metadata": {},
   "source": [
    "The hypothesis was that memebers with missing data would most likey be customers not subscribers as subscribers should have input their infromation to sign up for the service. But the data shows that these 2 things are not correlated. "
   ]
  },
  {
   "cell_type": "code",
   "execution_count": 10,
   "metadata": {},
   "outputs": [],
   "source": [
    "# drop missing values\n",
    "original_df = df.copy()\n",
    "df.dropna(inplace=True)"
   ]
  },
  {
   "cell_type": "code",
   "execution_count": 11,
   "metadata": {},
   "outputs": [
    {
     "data": {
      "text/plain": [
       "duration_sec               0\n",
       "start_time                 0\n",
       "end_time                   0\n",
       "start_station_id           0\n",
       "start_station_name         0\n",
       "start_station_latitude     0\n",
       "start_station_longitude    0\n",
       "end_station_id             0\n",
       "end_station_name           0\n",
       "end_station_latitude       0\n",
       "end_station_longitude      0\n",
       "bike_id                    0\n",
       "user_type                  0\n",
       "member_birth_year          0\n",
       "member_gender              0\n",
       "bike_share_for_all_trip    0\n",
       "dtype: int64"
      ]
     },
     "execution_count": 11,
     "metadata": {},
     "output_type": "execute_result"
    }
   ],
   "source": [
    "df.isna().sum()"
   ]
  },
  {
   "cell_type": "markdown",
   "metadata": {
    "heading_collapsed": true
   },
   "source": [
    "### Converting some features to more interpretable units "
   ]
  },
  {
   "cell_type": "code",
   "execution_count": 12,
   "metadata": {
    "hidden": true
   },
   "outputs": [
    {
     "data": {
      "text/html": [
       "<div>\n",
       "<style scoped>\n",
       "    .dataframe tbody tr th:only-of-type {\n",
       "        vertical-align: middle;\n",
       "    }\n",
       "\n",
       "    .dataframe tbody tr th {\n",
       "        vertical-align: top;\n",
       "    }\n",
       "\n",
       "    .dataframe thead th {\n",
       "        text-align: right;\n",
       "    }\n",
       "</style>\n",
       "<table border=\"1\" class=\"dataframe\">\n",
       "  <thead>\n",
       "    <tr style=\"text-align: right;\">\n",
       "      <th></th>\n",
       "      <th>start_time</th>\n",
       "      <th>end_time</th>\n",
       "      <th>start_station_id</th>\n",
       "      <th>start_station_name</th>\n",
       "      <th>start_station_latitude</th>\n",
       "      <th>start_station_longitude</th>\n",
       "      <th>end_station_id</th>\n",
       "      <th>end_station_name</th>\n",
       "      <th>end_station_latitude</th>\n",
       "      <th>end_station_longitude</th>\n",
       "      <th>bike_id</th>\n",
       "      <th>user_type</th>\n",
       "      <th>member_gender</th>\n",
       "      <th>bike_share_for_all_trip</th>\n",
       "      <th>member_age</th>\n",
       "      <th>duration_min</th>\n",
       "    </tr>\n",
       "  </thead>\n",
       "  <tbody>\n",
       "    <tr>\n",
       "      <th>0</th>\n",
       "      <td>2019-02-28 17:32:10.145</td>\n",
       "      <td>2019-03-01 08:01:55.975</td>\n",
       "      <td>21</td>\n",
       "      <td>Montgomery St BART Station (Market St at 2nd St)</td>\n",
       "      <td>37.789625</td>\n",
       "      <td>-122.400811</td>\n",
       "      <td>13</td>\n",
       "      <td>Commercial St at Montgomery St</td>\n",
       "      <td>37.794231</td>\n",
       "      <td>-122.402923</td>\n",
       "      <td>4902</td>\n",
       "      <td>Customer</td>\n",
       "      <td>Male</td>\n",
       "      <td>No</td>\n",
       "      <td>35.0</td>\n",
       "      <td>869.750000</td>\n",
       "    </tr>\n",
       "    <tr>\n",
       "      <th>2</th>\n",
       "      <td>2019-02-28 12:13:13.218</td>\n",
       "      <td>2019-03-01 05:24:08.146</td>\n",
       "      <td>86</td>\n",
       "      <td>Market St at Dolores St</td>\n",
       "      <td>37.769305</td>\n",
       "      <td>-122.426826</td>\n",
       "      <td>3</td>\n",
       "      <td>Powell St BART Station (Market St at 4th St)</td>\n",
       "      <td>37.786375</td>\n",
       "      <td>-122.404904</td>\n",
       "      <td>5905</td>\n",
       "      <td>Customer</td>\n",
       "      <td>Male</td>\n",
       "      <td>No</td>\n",
       "      <td>47.0</td>\n",
       "      <td>1030.900000</td>\n",
       "    </tr>\n",
       "    <tr>\n",
       "      <th>3</th>\n",
       "      <td>2019-02-28 17:54:26.010</td>\n",
       "      <td>2019-03-01 04:02:36.842</td>\n",
       "      <td>375</td>\n",
       "      <td>Grove St at Masonic Ave</td>\n",
       "      <td>37.774836</td>\n",
       "      <td>-122.446546</td>\n",
       "      <td>70</td>\n",
       "      <td>Central Ave at Fell St</td>\n",
       "      <td>37.773311</td>\n",
       "      <td>-122.444293</td>\n",
       "      <td>6638</td>\n",
       "      <td>Subscriber</td>\n",
       "      <td>Other</td>\n",
       "      <td>No</td>\n",
       "      <td>30.0</td>\n",
       "      <td>608.166667</td>\n",
       "    </tr>\n",
       "    <tr>\n",
       "      <th>4</th>\n",
       "      <td>2019-02-28 23:54:18.549</td>\n",
       "      <td>2019-03-01 00:20:44.074</td>\n",
       "      <td>7</td>\n",
       "      <td>Frank H Ogawa Plaza</td>\n",
       "      <td>37.804562</td>\n",
       "      <td>-122.271738</td>\n",
       "      <td>222</td>\n",
       "      <td>10th Ave at E 15th St</td>\n",
       "      <td>37.792714</td>\n",
       "      <td>-122.248780</td>\n",
       "      <td>4898</td>\n",
       "      <td>Subscriber</td>\n",
       "      <td>Male</td>\n",
       "      <td>Yes</td>\n",
       "      <td>45.0</td>\n",
       "      <td>26.416667</td>\n",
       "    </tr>\n",
       "    <tr>\n",
       "      <th>5</th>\n",
       "      <td>2019-02-28 23:49:58.632</td>\n",
       "      <td>2019-03-01 00:19:51.760</td>\n",
       "      <td>93</td>\n",
       "      <td>4th St at Mission Bay Blvd S</td>\n",
       "      <td>37.770407</td>\n",
       "      <td>-122.391198</td>\n",
       "      <td>323</td>\n",
       "      <td>Broadway at Kearny</td>\n",
       "      <td>37.798014</td>\n",
       "      <td>-122.405950</td>\n",
       "      <td>5200</td>\n",
       "      <td>Subscriber</td>\n",
       "      <td>Male</td>\n",
       "      <td>No</td>\n",
       "      <td>60.0</td>\n",
       "      <td>29.883333</td>\n",
       "    </tr>\n",
       "  </tbody>\n",
       "</table>\n",
       "</div>"
      ],
      "text/plain": [
       "               start_time                end_time  start_station_id  \\\n",
       "0 2019-02-28 17:32:10.145 2019-03-01 08:01:55.975                21   \n",
       "2 2019-02-28 12:13:13.218 2019-03-01 05:24:08.146                86   \n",
       "3 2019-02-28 17:54:26.010 2019-03-01 04:02:36.842               375   \n",
       "4 2019-02-28 23:54:18.549 2019-03-01 00:20:44.074                 7   \n",
       "5 2019-02-28 23:49:58.632 2019-03-01 00:19:51.760                93   \n",
       "\n",
       "                                 start_station_name  start_station_latitude  \\\n",
       "0  Montgomery St BART Station (Market St at 2nd St)               37.789625   \n",
       "2                           Market St at Dolores St               37.769305   \n",
       "3                           Grove St at Masonic Ave               37.774836   \n",
       "4                               Frank H Ogawa Plaza               37.804562   \n",
       "5                      4th St at Mission Bay Blvd S               37.770407   \n",
       "\n",
       "   start_station_longitude  end_station_id  \\\n",
       "0              -122.400811              13   \n",
       "2              -122.426826               3   \n",
       "3              -122.446546              70   \n",
       "4              -122.271738             222   \n",
       "5              -122.391198             323   \n",
       "\n",
       "                               end_station_name  end_station_latitude  \\\n",
       "0                Commercial St at Montgomery St             37.794231   \n",
       "2  Powell St BART Station (Market St at 4th St)             37.786375   \n",
       "3                        Central Ave at Fell St             37.773311   \n",
       "4                         10th Ave at E 15th St             37.792714   \n",
       "5                            Broadway at Kearny             37.798014   \n",
       "\n",
       "   end_station_longitude  bike_id   user_type member_gender  \\\n",
       "0            -122.402923     4902    Customer          Male   \n",
       "2            -122.404904     5905    Customer          Male   \n",
       "3            -122.444293     6638  Subscriber         Other   \n",
       "4            -122.248780     4898  Subscriber          Male   \n",
       "5            -122.405950     5200  Subscriber          Male   \n",
       "\n",
       "  bike_share_for_all_trip  member_age  duration_min  \n",
       "0                      No        35.0    869.750000  \n",
       "2                      No        47.0   1030.900000  \n",
       "3                      No        30.0    608.166667  \n",
       "4                     Yes        45.0     26.416667  \n",
       "5                      No        60.0     29.883333  "
      ]
     },
     "execution_count": 12,
     "metadata": {},
     "output_type": "execute_result"
    }
   ],
   "source": [
    "# age instead of year of birth\n",
    "df['member_age'] = 2019 - df['member_birth_year'] # 2019 as the data was collected in 2019\n",
    "df.drop('member_birth_year', axis=1, inplace=True)\n",
    "\n",
    "# minutes instead of seconds \n",
    "df['duration_min'] = df['duration_sec'] / 60\n",
    "df.drop('duration_sec', axis=1, inplace=True)\n",
    "\n",
    "# ids to int\n",
    "df['start_station_id'] = df['start_station_id'].astype(int)\n",
    "df['end_station_id'] = df['end_station_id'].astype(int)\n",
    "\n",
    "df.head(5)"
   ]
  },
  {
   "cell_type": "code",
   "execution_count": 13,
   "metadata": {
    "hidden": true
   },
   "outputs": [
    {
     "data": {
      "text/plain": [
       "(174952, 16)"
      ]
     },
     "execution_count": 13,
     "metadata": {},
     "output_type": "execute_result"
    }
   ],
   "source": [
    "df.shape"
   ]
  },
  {
   "cell_type": "code",
   "execution_count": 14,
   "metadata": {
    "hidden": true
   },
   "outputs": [
    {
     "name": "stdout",
     "output_type": "stream",
     "text": [
      "<class 'pandas.core.frame.DataFrame'>\n",
      "Int64Index: 174952 entries, 0 to 183411\n",
      "Data columns (total 16 columns):\n",
      " #   Column                   Non-Null Count   Dtype         \n",
      "---  ------                   --------------   -----         \n",
      " 0   start_time               174952 non-null  datetime64[ns]\n",
      " 1   end_time                 174952 non-null  datetime64[ns]\n",
      " 2   start_station_id         174952 non-null  int64         \n",
      " 3   start_station_name       174952 non-null  object        \n",
      " 4   start_station_latitude   174952 non-null  float64       \n",
      " 5   start_station_longitude  174952 non-null  float64       \n",
      " 6   end_station_id           174952 non-null  int64         \n",
      " 7   end_station_name         174952 non-null  object        \n",
      " 8   end_station_latitude     174952 non-null  float64       \n",
      " 9   end_station_longitude    174952 non-null  float64       \n",
      " 10  bike_id                  174952 non-null  int64         \n",
      " 11  user_type                174952 non-null  object        \n",
      " 12  member_gender            174952 non-null  object        \n",
      " 13  bike_share_for_all_trip  174952 non-null  object        \n",
      " 14  member_age               174952 non-null  float64       \n",
      " 15  duration_min             174952 non-null  float64       \n",
      "dtypes: datetime64[ns](2), float64(6), int64(3), object(5)\n",
      "memory usage: 22.7+ MB\n"
     ]
    }
   ],
   "source": [
    "df.info()"
   ]
  },
  {
   "cell_type": "code",
   "execution_count": 15,
   "metadata": {
    "hidden": true
   },
   "outputs": [
    {
     "data": {
      "text/plain": [
       "(183412, 16)"
      ]
     },
     "execution_count": 15,
     "metadata": {},
     "output_type": "execute_result"
    }
   ],
   "source": [
    "original_df.shape"
   ]
  },
  {
   "cell_type": "markdown",
   "metadata": {},
   "source": [
    "### What is the structure of your dataset?\n",
    "\n",
    "> the dataset contains 183412 rides (174952 after removing NaNs) data and member related data:\n",
    " - `start_time`, `end_time`: the starting and ending time of the ride.\n",
    " - `start_station_id`, `end_station_id`: the id of the starting and ending stations.\n",
    " - `start_station_name`, `end_station_name`: the name of the starting and ending stations.\n",
    " - `start_station_latitude`, `end_station_latitude`, `start_station_longitude`, `end_station_longitude`: the latitude and longitude of the starting and ending stations.\n",
    " - `bike_id`: the id of the bike used in the ride.\n",
    " - `user_type`: the type of the member (Subscriber / Customer).\n",
    " - `member_gender`: the gender of the member.\n",
    " - `bike_share_for_all_tripe`: if the user is enroled in the program for low income residents.\n",
    " - `member_birth_year`: the birth year of the user -> replaced by `member_age` the actual age of the user.\n",
    " - `duration_sec`: the duration of the rides in seconds -> replaced by `duration_min` the duration in minutes.\n",
    "\n",
    "### What is/are the main feature(s) of interest in your dataset?\n",
    "\n",
    "> The main feature thing I'm interested in is the rides themselves. When and why does people ride, which stations has the most traffic and why? the average ride duration?\n",
    "\n",
    "### What features in the dataset do you think will help support your investigation into your feature(s) of interest?\n",
    "\n",
    "> I think the locations of the starting and ending stations should have the biggest effect, also the starting and ending times as some hours of the day has more traffic than others which may also has an effect. The type of the user, gender and age could also have an effect.\n",
    " - `start_station_name`, `end_station_name`\n",
    " - `duration_min`, `member_gender`, `member_age`, `user_type`"
   ]
  },
  {
   "cell_type": "markdown",
   "metadata": {},
   "source": [
    "## Univariate Exploration"
   ]
  },
  {
   "cell_type": "code",
   "execution_count": 16,
   "metadata": {},
   "outputs": [],
   "source": [
    "# drop the features I won't be using \n",
    "drop_features = ['bike_id', 'end_station_latitude', 'start_station_latitude', 'end_station_longitude', 'start_station_longitude']\n",
    "df.drop(drop_features, axis=1, inplace=True)"
   ]
  },
  {
   "cell_type": "markdown",
   "metadata": {},
   "source": [
    "### Ride Duration Distrubtion "
   ]
  },
  {
   "cell_type": "code",
   "execution_count": 17,
   "metadata": {},
   "outputs": [
    {
     "data": {
      "text/plain": [
       "count    174952.000000\n",
       "mean         11.733379\n",
       "std          27.370082\n",
       "min           1.016667\n",
       "25%           5.383333\n",
       "50%           8.500000\n",
       "75%          13.150000\n",
       "max        1409.133333\n",
       "Name: duration_min, dtype: float64"
      ]
     },
     "execution_count": 17,
     "metadata": {},
     "output_type": "execute_result"
    }
   ],
   "source": [
    "df['duration_min'].describe()"
   ]
  },
  {
   "cell_type": "code",
   "execution_count": 18,
   "metadata": {},
   "outputs": [
    {
     "data": {
      "text/plain": [
       "count    5.242919\n",
       "mean     1.069423\n",
       "std      1.437276\n",
       "min      0.007179\n",
       "25%      0.731051\n",
       "50%      0.929419\n",
       "75%      1.118926\n",
       "max      3.148952\n",
       "Name: duration_min, dtype: float64"
      ]
     },
     "execution_count": 18,
     "metadata": {},
     "output_type": "execute_result"
    }
   ],
   "source": [
    "np.log10(df['duration_min'].describe())"
   ]
  },
  {
   "cell_type": "code",
   "execution_count": 19,
   "metadata": {},
   "outputs": [],
   "source": [
    "bins = 10 ** np.arange(0, 3.1+.1, .1)\n",
    "ticks = [1, 2, 3, 5, 7, 12, 20, 40, 60, 100, 200, 500, 1400]\n",
    "labels = [\"{}\".format(v) for v in ticks]"
   ]
  },
  {
   "cell_type": "code",
   "execution_count": 20,
   "metadata": {},
   "outputs": [
    {
     "data": {
      "image/png": "[encoded data removed]",
      "text/plain": [
       "<Figure size 504x360 with 1 Axes>"
      ]
     },
     "metadata": {
      "needs_background": "light"
     },
     "output_type": "display_data"
    }
   ],
   "source": [
    "plt.figure(figsize=(7, 5))\n",
    "plt.hist(data=df, x='duration_min', bins=bins)\n",
    "plt.title(\"Ride Duration Distribution\")\n",
    "plt.xlabel(\"Minutes\")\n",
    "plt.ylabel(\"Count\")\n",
    "plt.xscale(\"log\")\n",
    "plt.xticks(ticks, labels)\n",
    "plt.show()"
   ]
  },
  {
   "cell_type": "markdown",
   "metadata": {},
   "source": [
    "The duration data was really skewed to the right so I applied a log scaling to it and it follows a log normal distribution. We can see that most of the rides lasts between 7-12 minutes.\n",
    "\n",
    "Also a few number of rides were above 100 minutes and going way up till 1400, as these rides are a few and not rare so I don't think they are errors in the data, they may be some long distance marathons or organized events or that some people kept the bikes with them overnight."
   ]
  },
  {
   "cell_type": "markdown",
   "metadata": {},
   "source": [
    "### Members\n",
    "- Gender\n",
    "- Age\n",
    "- Type"
   ]
  },
  {
   "cell_type": "markdown",
   "metadata": {},
   "source": [
    "#### Members Gender Distribution "
   ]
  },
  {
   "cell_type": "code",
   "execution_count": 21,
   "metadata": {},
   "outputs": [
    {
     "data": {
      "image/png": "[encoded data removed]",
      "text/plain": [
       "<Figure size 504x360 with 1 Axes>"
      ]
     },
     "metadata": {
      "needs_background": "light"
     },
     "output_type": "display_data"
    }
   ],
   "source": [
    "# gender distribution\n",
    "plt.figure(figsize=(7, 5))\n",
    "color = sb.color_palette()[0]\n",
    "ax = sb.countplot(data=df, x='member_gender', order=[\"Male\", \"Female\", \"Other\"], color=color)\n",
    "plt.title(\"Members Gender Distribution\")\n",
    "for p in ax.patches:\n",
    "        ax.annotate('%{:.2f}'.format(p.get_height() / df.shape[0] * 100), (p.get_x()+0.2, p.get_height()+1000))\n",
    "    \n",
    "plt.xlabel(\"Gender\")\n",
    "plt.show()"
   ]
  },
  {
   "cell_type": "markdown",
   "metadata": {},
   "source": [
    "most of the rides were made by males 74.59% and 23.32% by females and only 2% by other."
   ]
  },
  {
   "cell_type": "markdown",
   "metadata": {},
   "source": [
    "#### Members Age Disribution "
   ]
  },
  {
   "cell_type": "code",
   "execution_count": 22,
   "metadata": {},
   "outputs": [
    {
     "data": {
      "text/plain": [
       "count    174952.000000\n",
       "mean         34.196865\n",
       "std          10.118731\n",
       "min          18.000000\n",
       "25%          27.000000\n",
       "50%          32.000000\n",
       "75%          39.000000\n",
       "max         141.000000\n",
       "Name: member_age, dtype: float64"
      ]
     },
     "execution_count": 22,
     "metadata": {},
     "output_type": "execute_result"
    }
   ],
   "source": [
    "df['member_age'].describe()"
   ]
  },
  {
   "cell_type": "code",
   "execution_count": 23,
   "metadata": {},
   "outputs": [
    {
     "data": {
      "text/plain": [
       "27370     141.0\n",
       "60960     119.0\n",
       "21506     119.0\n",
       "94326     119.0\n",
       "122194    119.0\n",
       "41319     119.0\n",
       "58222     119.0\n",
       "38932     119.0\n",
       "19375     119.0\n",
       "107619    119.0\n",
       "Name: member_age, dtype: float64"
      ]
     },
     "execution_count": 23,
     "metadata": {},
     "output_type": "execute_result"
    }
   ],
   "source": [
    "df['member_age'].sort_values(ascending=False)[:10]"
   ]
  },
  {
   "cell_type": "code",
   "execution_count": 24,
   "metadata": {},
   "outputs": [
    {
     "data": {
      "text/html": [
       "<div>\n",
       "<style scoped>\n",
       "    .dataframe tbody tr th:only-of-type {\n",
       "        vertical-align: middle;\n",
       "    }\n",
       "\n",
       "    .dataframe tbody tr th {\n",
       "        vertical-align: top;\n",
       "    }\n",
       "\n",
       "    .dataframe thead th {\n",
       "        text-align: right;\n",
       "    }\n",
       "</style>\n",
       "<table border=\"1\" class=\"dataframe\">\n",
       "  <thead>\n",
       "    <tr style=\"text-align: right;\">\n",
       "      <th></th>\n",
       "      <th>start_time</th>\n",
       "      <th>end_time</th>\n",
       "      <th>start_station_id</th>\n",
       "      <th>start_station_name</th>\n",
       "      <th>end_station_id</th>\n",
       "      <th>end_station_name</th>\n",
       "      <th>user_type</th>\n",
       "      <th>member_gender</th>\n",
       "      <th>bike_share_for_all_trip</th>\n",
       "      <th>member_age</th>\n",
       "      <th>duration_min</th>\n",
       "    </tr>\n",
       "  </thead>\n",
       "  <tbody>\n",
       "    <tr>\n",
       "      <th>27370</th>\n",
       "      <td>2019-02-25 09:28:42.161</td>\n",
       "      <td>2019-02-25 09:53:17.068</td>\n",
       "      <td>15</td>\n",
       "      <td>San Francisco Ferry Building (Harry Bridges Pl...</td>\n",
       "      <td>386</td>\n",
       "      <td>24th St at Bartlett St</td>\n",
       "      <td>Customer</td>\n",
       "      <td>Female</td>\n",
       "      <td>No</td>\n",
       "      <td>141.0</td>\n",
       "      <td>24.566667</td>\n",
       "    </tr>\n",
       "  </tbody>\n",
       "</table>\n",
       "</div>"
      ],
      "text/plain": [
       "                   start_time                end_time  start_station_id  \\\n",
       "27370 2019-02-25 09:28:42.161 2019-02-25 09:53:17.068                15   \n",
       "\n",
       "                                      start_station_name  end_station_id  \\\n",
       "27370  San Francisco Ferry Building (Harry Bridges Pl...             386   \n",
       "\n",
       "             end_station_name user_type member_gender bike_share_for_all_trip  \\\n",
       "27370  24th St at Bartlett St  Customer        Female                      No   \n",
       "\n",
       "       member_age  duration_min  \n",
       "27370       141.0     24.566667  "
      ]
     },
     "execution_count": 24,
     "metadata": {},
     "output_type": "execute_result"
    }
   ],
   "source": [
    "df[df['member_age'] == 141]"
   ]
  },
  {
   "cell_type": "code",
   "execution_count": 25,
   "metadata": {},
   "outputs": [],
   "source": [
    "bins = np.arange(18, 141, 2)\n",
    "ticks = [18, 20, 25, 30, 35, 40, 50, 60, 70, 100, 120, 140]\n",
    "labels = [\"{}\".format(v) for v in ticks]"
   ]
  },
  {
   "cell_type": "code",
   "execution_count": 26,
   "metadata": {},
   "outputs": [
    {
     "data": {
      "image/png": "[encoded data removed]",
      "text/plain": [
       "<Figure size 504x360 with 1 Axes>"
      ]
     },
     "metadata": {
      "needs_background": "light"
     },
     "output_type": "display_data"
    }
   ],
   "source": [
    "plt.figure(figsize=(7, 5))\n",
    "plt.hist(data=df, x='member_age', bins=bins)\n",
    "plt.xscale(\"log\")\n",
    "plt.xticks(ticks, labels)\n",
    "plt.title(\"Member Age Distribution\")\n",
    "plt.xlabel(\"Age (years)\")\n",
    "plt.ylabel(\"Count\")\n",
    "plt.show()"
   ]
  },
  {
   "cell_type": "markdown",
   "metadata": {},
   "source": [
    "The data has close to log normal disribution with some points skewed the right.\n",
    "Most of the members are between age 25 to 35 and we can see that the service is only available to 18 years old or older.\n",
    "\n",
    "We can also see that very a few rides were made by people older than 60. \n",
    "\n",
    "And We have some some really high ages like 119 and 141 and these may be some mistakes made by the users like typing 141 instead of 41 or someone joking. But still the rest of the information can be used."
   ]
  },
  {
   "cell_type": "markdown",
   "metadata": {},
   "source": [
    "#### Members Type Distribution "
   ]
  },
  {
   "cell_type": "code",
   "execution_count": 27,
   "metadata": {},
   "outputs": [
    {
     "data": {
      "image/png": "[encoded data removed]",
      "text/plain": [
       "<Figure size 504x360 with 1 Axes>"
      ]
     },
     "metadata": {
      "needs_background": "light"
     },
     "output_type": "display_data"
    }
   ],
   "source": [
    "# user type distribution\n",
    "plt.figure(figsize=(7, 5))\n",
    "ax = sb.countplot(data=df, x='user_type')\n",
    "plt.title(\"Members Type Distribution\")\n",
    "for p in ax.patches:\n",
    "        ax.annotate('%{:.2f}'.format(p.get_height() / df.shape[0] * 100), (p.get_x()+0.3, p.get_height()+1000))\n",
    "    \n",
    "plt.xlabel(\"Member Type\")\n",
    "plt.show()"
   ]
  },
  {
   "cell_type": "markdown",
   "metadata": {},
   "source": [
    "The majority of the rides are made by subscribers to the service, This may affect the duration as these people use the service regulary and may be familiar with the roads and routes."
   ]
  },
  {
   "cell_type": "markdown",
   "metadata": {},
   "source": [
    "### Stations Distributions \n",
    "- Starting Stations - Top 10\n",
    "- Ending Stations - Top 10"
   ]
  },
  {
   "cell_type": "code",
   "execution_count": 28,
   "metadata": {},
   "outputs": [],
   "source": [
    "top_10_starting_ids = df['start_station_id'].value_counts().reset_index()[:10]['index'].values\n",
    "top_10_starting = df[df['start_station_id'].isin(top_10_starting_ids)]\n",
    "top_10_starting_order = top_10_starting.start_station_name.value_counts().index\n",
    "\n",
    "top_10_ending_ids = df['end_station_id'].value_counts().reset_index()[:10]['index'].values\n",
    "top_10_ending = df[df['end_station_id'].isin(top_10_ending_ids)]\n",
    "top_10_ending_order = top_10_ending.end_station_name.value_counts().index"
   ]
  },
  {
   "cell_type": "code",
   "execution_count": 29,
   "metadata": {},
   "outputs": [
    {
     "data": {
      "image/png": "[encoded data removed]",
      "text/plain": [
       "<Figure size 504x1008 with 2 Axes>"
      ]
     },
     "metadata": {
      "needs_background": "light"
     },
     "output_type": "display_data"
    }
   ],
   "source": [
    "plt.figure(figsize=(7, 14))\n",
    "plt.subplot(2, 1, 1)\n",
    "plt.title(\"Top 10 Starting Stations\")\n",
    "sb.countplot(data=top_10_starting, y='start_station_name', color=color, order=top_10_starting_order)\n",
    "plt.ylabel(None)\n",
    "plt.xlim((0, 4700))\n",
    "\n",
    "\n",
    "plt.subplot(2, 1, 2)\n",
    "plt.title(\"Top 10 Ending Stations\")\n",
    "sb.countplot(data=top_10_ending , y='end_station_name', color=color, order=top_10_ending_order)\n",
    "plt.ylabel(None)\n",
    "plt.xlim((0, 4700))\n",
    "plt.show()"
   ]
  },
  {
   "cell_type": "code",
   "execution_count": 30,
   "metadata": {},
   "outputs": [
    {
     "data": {
      "text/plain": [
       "array(['Montgomery St BART Station (Market St at 2nd St)',\n",
       "       'Market St at 10th St',\n",
       "       'San Francisco Ferry Building (Harry Bridges Plaza)',\n",
       "       'San Francisco Caltrain (Townsend St at 4th St)',\n",
       "       'San Francisco Caltrain Station 2  (Townsend St at 4th St)',\n",
       "       'Powell St BART Station (Market St at 5th St)',\n",
       "       'Steuart St at Market St',\n",
       "       'Powell St BART Station (Market St at 4th St)',\n",
       "       'Berry St at 4th St'], dtype=object)"
      ]
     },
     "execution_count": 30,
     "metadata": {},
     "output_type": "execute_result"
    }
   ],
   "source": [
    "# stations with the most traffic (start/end)\n",
    "intersection_stations = list(set(top_10_ending_ids) & set(top_10_starting_ids))\n",
    "df[df['start_station_id'].isin(intersection_stations)].start_station_name.unique()"
   ]
  },
  {
   "cell_type": "markdown",
   "metadata": {},
   "source": [
    "We can see that stations like `San Francisco Caltrain Station 2` and `Market St` has the most traffic whether it's starting or ending. The same goes for the rest of the top 10 starting and ending lists. which means that these are the most active stations. This could indicate that people who leave from a station come back to it again. This can be the case for people who commute to and back from work everyday."
   ]
  },
  {
   "cell_type": "markdown",
   "metadata": {},
   "source": [
    "### Time\n",
    "- Days of the week\n",
    "- Hours of the day"
   ]
  },
  {
   "cell_type": "code",
   "execution_count": 31,
   "metadata": {},
   "outputs": [],
   "source": [
    "df['start_hour'] = df['start_time'].dt.hour\n",
    "df['start_day'] = df['start_time'].dt.day\n",
    "df['start_day_name'] = df['start_time'].dt.day_name()"
   ]
  },
  {
   "cell_type": "code",
   "execution_count": 32,
   "metadata": {},
   "outputs": [
    {
     "data": {
      "text/plain": [
       "<matplotlib.axes._subplots.AxesSubplot at 0x7f191cc3db50>"
      ]
     },
     "execution_count": 32,
     "metadata": {},
     "output_type": "execute_result"
    },
    {
     "data": {
      "image/png": "[encoded data removed]",
      "text/plain": [
       "<Figure size 720x360 with 1 Axes>"
      ]
     },
     "metadata": {
      "needs_background": "light"
     },
     "output_type": "display_data"
    }
   ],
   "source": [
    "plt.figure(figsize=(10, 5))\n",
    "sb.countplot(data=df, x='start_hour', color=color)"
   ]
  },
  {
   "cell_type": "markdown",
   "metadata": {},
   "source": [
    "As we can see the data is bimodal around 2 specific hours 8 and 17. This shows us that a really big number people use the service to go to or come back from work which supports the previous claim."
   ]
  },
  {
   "cell_type": "code",
   "execution_count": 33,
   "metadata": {},
   "outputs": [
    {
     "data": {
      "image/png": "[encoded data removed]",
      "text/plain": [
       "<Figure size 720x360 with 1 Axes>"
      ]
     },
     "metadata": {
      "needs_background": "light"
     },
     "output_type": "display_data"
    }
   ],
   "source": [
    "days_order = ['Monday', 'Tuesday', 'Wednesday', 'Thursday', 'Friday', 'Saturday', 'Sunday']\n",
    "plt.figure(figsize=(10, 5))\n",
    "sb.countplot(data=df, x='start_day_name', color=color, order=days_order)\n",
    "plt.title(\"Distribution of Rides per week day\")\n",
    "plt.xlabel(\"Day\")\n",
    "plt.show()"
   ]
  },
  {
   "cell_type": "markdown",
   "metadata": {},
   "source": [
    "This plot also supports our hypothesis as the number of rides on Saturday and Sunday (weekend) is noticably smaller than the number of rides for the other days. But at the same time we can see that there still a good number of people that use the service on weekends too."
   ]
  },
  {
   "cell_type": "markdown",
   "metadata": {},
   "source": [
    "## Bivariate Exploration"
   ]
  },
  {
   "cell_type": "markdown",
   "metadata": {},
   "source": [
    "### Durations and Starting Stations"
   ]
  },
  {
   "cell_type": "code",
   "execution_count": 34,
   "metadata": {},
   "outputs": [],
   "source": [
    "lowest_50_starting_ids = df['start_station_id'].value_counts().reset_index()[-50:]['index'].values\n",
    "lowest_50_starting = df[df['start_station_id'].isin(lowest_50_starting_ids)]\n",
    "lowest_50_starting_order = lowest_50_starting.start_station_id.value_counts().index\n",
    "\n",
    "top_50_starting_ids = df['start_station_id'].value_counts().reset_index()[:50]['index'].values\n",
    "top_50_starting = df[df['start_station_id'].isin(top_50_starting_ids)]\n",
    "top_50_starting_order = top_50_starting.start_station_id.value_counts().index"
   ]
  },
  {
   "cell_type": "code",
   "execution_count": 35,
   "metadata": {},
   "outputs": [
    {
     "data": {
      "image/png": "[encoded data removed]",
      "text/plain": [
       "<Figure size 1224x720 with 2 Axes>"
      ]
     },
     "metadata": {
      "needs_background": "light"
     },
     "output_type": "display_data"
    }
   ],
   "source": [
    "ticks = [1, 5, 7, 12, 20, 30]\n",
    "labels = [f\"{v}\" for v in ticks]\n",
    "\n",
    "plt.figure(figsize=(17, 10))\n",
    "plt.subplot(2, 1, 1)\n",
    "sb.boxplot(data=top_50_starting, x='start_station_id', y='duration_min', order=top_50_starting_order)\n",
    "plt.axhline(10, ls='--')\n",
    "#plt.ylim((0, 70))\n",
    "plt.yscale(\"log\")\n",
    "plt.yticks(ticks, labels)\n",
    "\n",
    "plt.subplot(2, 1, 2)\n",
    "sb.boxplot(data=lowest_50_starting, x='start_station_id', y='duration_min', order=lowest_50_starting_order)\n",
    "plt.axhline(10, ls='--')\n",
    "#plt.ylim((0, 70))\n",
    "plt.yscale(\"log\")\n",
    "plt.yticks(ticks, labels)\n",
    "\n",
    "plt.tight_layout()"
   ]
  },
  {
   "cell_type": "markdown",
   "metadata": {},
   "source": [
    "According to the first plot:\n",
    "The durations of the rides that started from the top 50 stations are really close the average ride time 7-12 minutes. Which means that people that start their rides in these stations are most likey to have the average ride time.\n",
    "\n",
    "On the other hand, according to the second plot the rides associated to stations with the least rides are more likey to have durations above or below the average ride duration. And have more varied durations.\n",
    "\n",
    "This could mean that people choose these top stations because they have the ideal duration for them as these stations may be in busy traffic areas or closer to their work. And the least used stations may be too close or too far away from the users distanations which means walking or taking a taxi would be a better option."
   ]
  },
  {
   "cell_type": "markdown",
   "metadata": {},
   "source": [
    "### Durations and Gender"
   ]
  },
  {
   "cell_type": "code",
   "execution_count": 36,
   "metadata": {},
   "outputs": [
    {
     "data": {
      "text/plain": [
       "(1, 100)"
      ]
     },
     "execution_count": 36,
     "metadata": {},
     "output_type": "execute_result"
    },
    {
     "data": {
      "image/png": "[encoded data removed]",
      "text/plain": [
       "<Figure size 432x288 with 1 Axes>"
      ]
     },
     "metadata": {
      "needs_background": "light"
     },
     "output_type": "display_data"
    }
   ],
   "source": [
    "sb.boxplot(data=df, x='member_gender', y='duration_min')\n",
    "plt.axhline(10, ls='--')\n",
    "plt.yscale(\"log\")\n",
    "plt.ylim((1, 100))"
   ]
  },
  {
   "cell_type": "markdown",
   "metadata": {},
   "source": [
    "We can see that men took shorter rides as women has longer rides durations than men as their minimum, maximum and median values are higher than men values. "
   ]
  },
  {
   "cell_type": "markdown",
   "metadata": {},
   "source": [
    "### Durations and User Type"
   ]
  },
  {
   "cell_type": "code",
   "execution_count": 37,
   "metadata": {},
   "outputs": [
    {
     "data": {
      "image/png": "[encoded data removed]",
      "text/plain": [
       "<Figure size 432x288 with 1 Axes>"
      ]
     },
     "metadata": {
      "needs_background": "light"
     },
     "output_type": "display_data"
    }
   ],
   "source": [
    "sb.boxplot(data=df, x='user_type', y='duration_min')\n",
    "plt.yscale(\"log\")"
   ]
  },
  {
   "cell_type": "markdown",
   "metadata": {},
   "source": [
    "As we suspected earlier subscribers have shorter ride durations than customers. This maybe due to reasons like the subscribers do the same rides regularly, so they are more familiar with the roads and routes. Customers may use the service occasionally which means they are less familiar with the roads and routs and also they may have different starting and ending stations each ride instead of having fixed comutes."
   ]
  },
  {
   "cell_type": "markdown",
   "metadata": {},
   "source": [
    "### User Type and Days of the week "
   ]
  },
  {
   "cell_type": "code",
   "execution_count": 38,
   "metadata": {},
   "outputs": [],
   "source": [
    "color = sb.color_palette()[0]"
   ]
  },
  {
   "cell_type": "code",
   "execution_count": 39,
   "metadata": {},
   "outputs": [
    {
     "data": {
      "text/plain": [
       "<matplotlib.axes._subplots.AxesSubplot at 0x7f1920fc69d0>"
      ]
     },
     "execution_count": 39,
     "metadata": {},
     "output_type": "execute_result"
    },
    {
     "data": {
      "image/png": "[encoded data removed]",
      "text/plain": [
       "<Figure size 1080x360 with 2 Axes>"
      ]
     },
     "metadata": {
      "needs_background": "light"
     },
     "output_type": "display_data"
    }
   ],
   "source": [
    "plt.figure(figsize=(15, 5))\n",
    "plt.subplot(1, 2, 1)\n",
    "sb.countplot(data=df[df['user_type'] == 'Customer'], x='start_day_name', hue='user_type', order=days_order)\n",
    "\n",
    "plt.subplot(1, 2, 2)\n",
    "sb.countplot(data=df[df['user_type'] == 'Subscriber'], x='start_day_name', hue='user_type', order=days_order,\n",
    "             palette={\"C1\"})"
   ]
  },
  {
   "cell_type": "markdown",
   "metadata": {},
   "source": [
    "The number of rides by subscribers shows same low values for weekends which means most of the subscribers use the service to comute to and from work which should be a fixed comute (shorter durations). While customers' numbers are not affected by weekends which means the majority of the customers use the service occasionally and not only for fixed commutes like work."
   ]
  },
  {
   "cell_type": "markdown",
   "metadata": {},
   "source": [
    "### User Type and Hours of the day "
   ]
  },
  {
   "cell_type": "code",
   "execution_count": 40,
   "metadata": {},
   "outputs": [
    {
     "data": {
      "text/plain": [
       "<matplotlib.axes._subplots.AxesSubplot at 0x7f191c36c790>"
      ]
     },
     "execution_count": 40,
     "metadata": {},
     "output_type": "execute_result"
    },
    {
     "data": {
      "image/png": "[encoded data removed]",
      "text/plain": [
       "<Figure size 1080x360 with 2 Axes>"
      ]
     },
     "metadata": {
      "needs_background": "light"
     },
     "output_type": "display_data"
    }
   ],
   "source": [
    "plt.figure(figsize=(15, 5))\n",
    "plt.subplot(1, 2, 1)\n",
    "sb.countplot(data=df[df['user_type'] == 'Customer'], x='start_hour', hue='user_type')\n",
    "\n",
    "plt.subplot(1, 2, 2)\n",
    "sb.countplot(data=df[df['user_type'] == 'Subscriber'], x='start_hour', hue='user_type', palette={\"C1\"})"
   ]
  },
  {
   "cell_type": "markdown",
   "metadata": {},
   "source": [
    "Here we can see clearly that most of our subscribers use the service to comute to and from work.\n",
    "\n",
    "And we can also see that most of the customers do the same. This maybe due to the fact that these rides can be from different customers on different days accross the month and it accumlated to be like this. We can also see the distribution of customer rides during the working hours 8-17 is quite different than subscribers which shows that customers use the service for other purposes than fixed commute."
   ]
  },
  {
   "cell_type": "markdown",
   "metadata": {},
   "source": [
    "### Talk about some of the relationships you observed in this part of the investigation. How did the feature(s) of interest vary with other features in the dataset?\n",
    "\n",
    "> Lets start with the relationship between duration and starting station, the stations with most traffic had a duration distribution centered around the center of all the durations distribution which indicates that people that use these stations have similiar commutes or they figured out that these rides durations are just ideal for them like if it's longer they can just take a taxi or if it's shorter they can just walk. We also found that subscribers have shorter commute duration than customers which when we invistigated a little bit more we found that subscribers mostly take rides to their commutes during working days and these tasks is repeatitive enough so they alreay know the best roads and routes which makes their rides shorter. On the other as some customers use the service for commuting they also use it more for other non-consistant rides which means they know little about the roads and routes which suggests longer periods. \n",
    "\n",
    "### Did you observe any interesting relationships between the other features (not the main feature(s) of interest)?\n",
    "\n",
    "> Although the relationship between subscriber and hour of the day and customer and hour of the day was similar (bimodal), the distribution of rudes during working hours was different for customers suggesting that more customers took rides during the working hours than subscribers and this suggests that these customers may be different people taking rides for different purposes which made them have longer average rides than subscribers."
   ]
  },
  {
   "cell_type": "markdown",
   "metadata": {},
   "source": [
    "## Multivariate Exploration"
   ]
  },
  {
   "cell_type": "markdown",
   "metadata": {},
   "source": [
    "### Durations, User Types, Days of the Week"
   ]
  },
  {
   "cell_type": "code",
   "execution_count": 45,
   "metadata": {},
   "outputs": [
    {
     "data": {
      "text/plain": [
       "(1, 100)"
      ]
     },
     "execution_count": 45,
     "metadata": {},
     "output_type": "execute_result"
    },
    {
     "data": {
      "image/png": "[encoded data removed]",
      "text/plain": [
       "<Figure size 720x504 with 1 Axes>"
      ]
     },
     "metadata": {
      "needs_background": "light"
     },
     "output_type": "display_data"
    }
   ],
   "source": [
    "plt.figure(figsize=(10, 7))\n",
    "sb.boxplot(data=df, x='start_day_name', y='duration_min', hue='user_type', order=days_order)\n",
    "plt.yscale(\"log\")\n",
    "plt.ylim((1, 100))"
   ]
  },
  {
   "cell_type": "markdown",
   "metadata": {},
   "source": [
    "The previous results also appear here as subscribers have shorter ride durations that customers but we can also see that customer durations increase in the weekends these maybe people that are taking rides for riding events that are organized on the weekends but they still don't take rides regularly to commute or people that only takes rides on the weekends."
   ]
  }
 ],
 "metadata": {
  "kernelspec": {
   "display_name": "Python 3",
   "language": "python",
   "name": "python3"
  },
  "language_info": {
   "codemirror_mode": {
    "name": "ipython",
    "version": 3
   },
   "file_extension": ".py",
   "mimetype": "text/x-python",
   "name": "python",
   "nbconvert_exporter": "python",
   "pygments_lexer": "ipython3",
   "version": "3.7.6"
  }
 },
 "nbformat": 4,
 "nbformat_minor": 2
}
